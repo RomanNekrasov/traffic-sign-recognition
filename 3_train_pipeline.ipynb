{
 "cells": [
  {
   "metadata": {},
   "cell_type": "markdown",
   "source": [
    "# Pipeline for training and evaluating a CNN model for traffic sign recognition\n",
    "Notebook contains the following steps:\n",
    "1. Data loading and preprocessing\n",
    "2. Model definition\n",
    "3. Training and evaluation\n",
    "4. Saving results and model to Google Cloud Storage\n",
    "5. Hyperparameter tuning\n"
   ],
   "id": "1869da2631331a5d"
  },
  {
   "cell_type": "code",
   "execution_count": 1,
   "id": "9181eb4d-0da2-436f-8282-cc1dcacd217b",
   "metadata": {
    "tags": []
   },
   "outputs": [
    {
     "name": "stdout",
     "output_type": "stream",
     "text": [
      "Collecting tensorboard\n",
      "  Using cached tensorboard-2.16.2-py3-none-any.whl.metadata (1.6 kB)\n",
      "Requirement already satisfied: absl-py>=0.4 in /opt/conda/lib/python3.10/site-packages (from tensorboard) (2.1.0)\n",
      "Requirement already satisfied: grpcio>=1.48.2 in /opt/conda/lib/python3.10/site-packages (from tensorboard) (1.62.1)\n",
      "Collecting markdown>=2.6.8 (from tensorboard)\n",
      "  Using cached Markdown-3.6-py3-none-any.whl.metadata (7.0 kB)\n",
      "Requirement already satisfied: numpy>=1.12.0 in /opt/conda/lib/python3.10/site-packages (from tensorboard) (1.25.2)\n",
      "Requirement already satisfied: protobuf!=4.24.0,>=3.19.6 in ./.local/lib/python3.10/site-packages (from tensorboard) (4.25.3)\n",
      "Requirement already satisfied: setuptools>=41.0.0 in ./.local/lib/python3.10/site-packages (from tensorboard) (69.5.1)\n",
      "Requirement already satisfied: six>1.9 in /opt/conda/lib/python3.10/site-packages (from tensorboard) (1.16.0)\n",
      "Collecting tensorboard-data-server<0.8.0,>=0.7.0 (from tensorboard)\n",
      "  Using cached tensorboard_data_server-0.7.2-py3-none-manylinux_2_31_x86_64.whl.metadata (1.1 kB)\n",
      "Collecting werkzeug>=1.0.1 (from tensorboard)\n",
      "  Using cached werkzeug-3.0.3-py3-none-any.whl.metadata (3.7 kB)\n",
      "Requirement already satisfied: MarkupSafe>=2.1.1 in /opt/conda/lib/python3.10/site-packages (from werkzeug>=1.0.1->tensorboard) (2.1.5)\n",
      "Using cached tensorboard-2.16.2-py3-none-any.whl (5.5 MB)\n",
      "Using cached Markdown-3.6-py3-none-any.whl (105 kB)\n",
      "Using cached tensorboard_data_server-0.7.2-py3-none-manylinux_2_31_x86_64.whl (6.6 MB)\n",
      "Using cached werkzeug-3.0.3-py3-none-any.whl (227 kB)\n",
      "Installing collected packages: werkzeug, tensorboard-data-server, markdown, tensorboard\n",
      "Successfully installed markdown-3.6 tensorboard-2.16.2 tensorboard-data-server-0.7.2 werkzeug-3.0.3\n"
     ]
    }
   ],
   "source": [
    "# required for logging\n",
    "!pip install tensorboard"
   ]
  },
  {
   "cell_type": "code",
   "execution_count": 2,
   "id": "de62ce7a-974e-4a1e-88fd-7b91733a08e7",
   "metadata": {
    "tags": []
   },
   "outputs": [],
   "source": [
    "import os\n",
    "import torch\n",
    "import torch.nn as nn\n",
    "import torch.nn.functional as F\n",
    "import torch.optim as optim\n",
    "from torch.utils.data import random_split, DataLoader, Subset, ConcatDataset\n",
    "from torchvision import datasets, transforms\n",
    "from torch.utils.tensorboard import SummaryWriter\n",
    "from tqdm import tqdm\n",
    "import numpy as np\n",
    "from sklearn.metrics import confusion_matrix\n",
    "from google.cloud import storage\n",
    "import random\n",
    "import math\n",
    "from torch.optim.lr_scheduler import StepLR\n",
    "import datetime"
   ]
  },
  {
   "cell_type": "code",
   "execution_count": 3,
   "id": "beb09081-3617-4b91-98a4-1e5e72c42a97",
   "metadata": {
    "tags": []
   },
   "outputs": [],
   "source": [
    "def set_seed(seed=42):\n",
    "    \"\"\"Sets the seed for reproducibility.\"\"\"\n",
    "    # Python RNG\n",
    "    random.seed(seed)\n",
    "    \n",
    "    # PyTorch RNGs\n",
    "    torch.manual_seed(seed)\n",
    "    torch.cuda.manual_seed(seed)\n",
    "    torch.cuda.manual_seed_all(seed)  \n",
    "    torch.backends.cudnn.benchmark = False\n",
    "    torch.backends.cudnn.deterministic = True\n",
    "    \n",
    "    # Numpy RNG\n",
    "    np.random.seed(seed)\n",
    "    \n",
    "    # OS RNG\n",
    "    os.environ['PYTHONHASHSEED'] = str(seed)\n",
    "\n",
    "def worker_init_fn(worker_id):    \n",
    "    \"\"\"Ensure that the data loading process is deterministic.\"\"\"\n",
    "    np.random.seed(np.random.get_state()[1][0] + worker_id)\n",
    "\n",
    "set_seed(42)"
   ]
  },
  {
   "cell_type": "code",
   "execution_count": 4,
   "id": "80bbf69a-a5d8-40e1-8f21-f0d5b2f39d83",
   "metadata": {},
   "outputs": [],
   "source": [
    "project_id = 'deep-learning-420208'"
   ]
  },
  {
   "cell_type": "code",
   "execution_count": 5,
   "id": "3f759612-011b-4d7c-8bed-5774b364961b",
   "metadata": {},
   "outputs": [
    {
     "name": "stdout",
     "output_type": "stream",
     "text": [
      "Using device: cuda\n"
     ]
    }
   ],
   "source": [
    "# Check for GPU availability\n",
    "device = torch.device('cuda' if torch.cuda.is_available() else 'cpu')\n",
    "print(f\"Using device: {device}\")"
   ]
  },
  {
   "metadata": {},
   "cell_type": "markdown",
   "source": [
    "## Data loading and preprocessing\n",
    "AugmentationTrafficSignLoader class is used to load the augmented datasets and calculate the mean and standard deviation of the training data. Can load multiple augmentation datasets and calculate the mean and standard deviation for each dataset."
   ],
   "id": "a342f1f1763c36c3"
  },
  {
   "cell_type": "code",
   "execution_count": 6,
   "id": "f480daf0-7b98-45ed-8987-74e2e4d3ef79",
   "metadata": {
    "tags": []
   },
   "outputs": [],
   "source": [
    "class AugmentationTrafficSignLoader:\n",
    "    def __init__(self, root):\n",
    "        self.root = root\n",
    "        self.augmentations = [folder for folder in os.listdir(root)\n",
    "                              if os.path.isdir(os.path.join(root, folder))]\n",
    "\n",
    "    def calculate_mean_and_variance(self, training_root, percentage_of_whole):\n",
    "    \n",
    "        transform = transforms.Compose([\n",
    "                transforms.Resize((96, 96)),\n",
    "                transforms.ToTensor()\n",
    "            ])\n",
    "\n",
    "        test_dataset = datasets.ImageFolder(root=training_root, transform=transform)\n",
    "\n",
    "        indices = random.sample(population=list(range(len(test_dataset))), k=math.floor(len(test_dataset)*percentage_of_whole))\n",
    "        sample = Subset(test_dataset, indices)\n",
    "        loader = DataLoader(sample)\n",
    "\n",
    "        mean = 0.0\n",
    "        variance = 0.0\n",
    "        total_images = 0\n",
    "\n",
    "        for images, _ in loader:\n",
    "            # Rearrange batch to be the shape of [B, C, W * H]\n",
    "            images = images.view(images.size(0), images.size(1), -1)\n",
    "            # Update total_images\n",
    "            total_images += images.size(0)\n",
    "            # Compute mean and variance here\n",
    "            mean += images.mean(2).sum(0) \n",
    "            variance += images.var(2).sum(0)\n",
    "\n",
    "        # Final mean and variance\n",
    "        mean /= total_images\n",
    "        variance /= total_images\n",
    "\n",
    "        return mean, variance.sqrt()\n",
    "    \n",
    "    def augmentation_generator(self):\n",
    "        while self.augmentations:\n",
    "            current_aug = self.augmentations.pop()\n",
    "            current_aug_path = os.path.join(self.root, current_aug)\n",
    "            mean, std = self.calculate_mean_and_variance(current_aug_path, 0.25)\n",
    "            #print(mean, std)\n",
    "            transform = transforms.Compose([\n",
    "                transforms.Resize((96, 96)),\n",
    "                transforms.ToTensor(),\n",
    "                transforms.Normalize(mean=mean, std=std)\n",
    "            ])\n",
    "            yield os.path.basename(current_aug), datasets.ImageFolder(root=current_aug_path, transform=transform), mean, std"
   ]
  },
  {
   "metadata": {},
   "cell_type": "markdown",
   "source": [
    "## Model definition\n",
    "The CNN1 class defines the architecture of the convolutional neural network. The model consists of three convolutional layers followed by max pooling and batch normalization. The convolutional layers are followed by three fully connected layers."
   ],
   "id": "6a2914491fada8eb"
  },
  {
   "cell_type": "code",
   "execution_count": 7,
   "id": "99192f56-9474-4d9b-a218-64186aff73bb",
   "metadata": {},
   "outputs": [],
   "source": [
    "class CNN1(nn.Module):\n",
    "    def __init__(self, n_classes=0):\n",
    "        super(CNN1, self).__init__()\n",
    "        self.conv1 = nn.Conv2d(in_channels=3, out_channels=100, kernel_size=3, padding=1, bias=False)  # Output size: 96 x 96 x 100\n",
    "        self.norm1 = nn.BatchNorm2d(num_features=100)\n",
    "        self.pool1 = nn.MaxPool2d(kernel_size=2, stride=2)  # Output size: 48 x 48 x 100\n",
    "        self.conv2 = nn.Conv2d(in_channels=100, out_channels=150, kernel_size=3, padding=1, bias=False)  # Output size: 48 x 48 x 150\n",
    "        self.norm2 = nn.BatchNorm2d(num_features=150)\n",
    "        self.pool2 = nn.MaxPool2d(kernel_size=2, stride=2)  # Output size: 24 x 24 x 150\n",
    "        self.conv3 = nn.Conv2d(in_channels=150, out_channels=250, kernel_size=3, padding=1, bias=False)  # Output size: 24 x 24 x 250\n",
    "        self.norm3 = nn.BatchNorm2d(num_features=250)\n",
    "        self.pool3 = nn.MaxPool2d(kernel_size=2, stride=2)  # Output size: 12 x 12 x 250\n",
    "        # Calculate the total number of features in the flattened feature map\n",
    "        flat_features = 12 * 12 * 250\n",
    "        self.fc1 = nn.Linear(in_features=flat_features, out_features=4000)  # Output: 4000 units\n",
    "        self.fc2 = nn.Linear(in_features=4000, out_features=200)  # Output: 200 units\n",
    "        self.fc3 = nn.Linear(in_features=200, out_features=n_classes)  #33 Output: 46 units\n",
    "\n",
    "    def forward(self, x):\n",
    "        x = self.pool1(self.norm1(F.relu(self.conv1(x))))\n",
    "        x = self.pool2(self.norm2(F.relu(self.conv2(x))))\n",
    "        x = self.pool3(self.norm3(F.relu(self.conv3(x))))\n",
    "        x = torch.flatten(x, start_dim=1)  # Flatten starting from dimension 1\n",
    "        x = F.relu(self.fc1(x))\n",
    "        x = F.relu(self.fc2(x))\n",
    "        x = self.fc3(x)\n",
    "        return x"
   ]
  },
  {
   "metadata": {},
   "cell_type": "markdown",
   "source": "## Helper functions",
   "id": "b28f08a3747983f4"
  },
  {
   "cell_type": "code",
   "execution_count": 8,
   "id": "c5930e56-cc14-403a-91a4-8d201bc51bc3",
   "metadata": {},
   "outputs": [],
   "source": [
    "def upload_directory_to_gcs(bucket_name, source_directory, destination_blob_prefix):\n",
    "    \"\"\"Uploads a local directory and its subdirectories to a GCS bucket.\"\"\"\n",
    "    client = storage.Client(project=project_id)\n",
    "    bucket = client.bucket(bucket_name)\n",
    "\n",
    "    for dirpath, dirnames, filenames in os.walk(source_directory):\n",
    "        for filename in filenames:\n",
    "            local_file_path = os.path.join(dirpath, filename)\n",
    "            relative_path = os.path.relpath(local_file_path, source_directory)\n",
    "            blob_path = os.path.join(destination_blob_prefix, relative_path)\n",
    "            blob = bucket.blob(blob_path)\n",
    "            blob.upload_from_filename(local_file_path)\n",
    "            #print(f\"File {local_file_path} uploaded to {blob_path}.\")"
   ]
  },
  {
   "cell_type": "code",
   "execution_count": 9,
   "id": "843abf6b-8315-4083-b871-473324fbc364",
   "metadata": {},
   "outputs": [],
   "source": [
    "def calculate_accuracy(model, data_loader, device):\n",
    "    \"\"\"Calculates accuracy on given dataset\"\"\"\n",
    "    model.eval()\n",
    "    correct = 0\n",
    "    total = 0\n",
    "    with torch.no_grad():\n",
    "        for images, labels in data_loader:\n",
    "            images, labels = images.to(device), labels.to(device)\n",
    "            outputs = model(images)\n",
    "            _, predicted = torch.max(outputs.data, 1)\n",
    "            total += labels.size(0)\n",
    "            correct += (predicted == labels).sum().item()\n",
    "    return 100 * correct / total\n",
    "\n",
    "def evaluate_and_save_results(model, loader, device, classes, bucket_name, prefix, aug_name):\n",
    "    \"\"\"Evaluates the model and saves results and the model itself to Google Cloud Storage under a specific subfolder.\"\"\"\n",
    "    model.eval()\n",
    "    all_preds = []\n",
    "    all_labels = []\n",
    "    with torch.no_grad():\n",
    "        for images, labels in loader:\n",
    "            images = images.to(device)\n",
    "            labels = labels.to(device)\n",
    "            outputs = model(images)\n",
    "            _, preds = torch.max(outputs, 1)\n",
    "            all_preds.extend(preds.cpu().numpy())\n",
    "            all_labels.extend(labels.cpu().numpy())\n",
    "\n",
    "    # Compute the confusion matrix\n",
    "    cm = confusion_matrix(all_labels, all_preds, labels=np.arange(len(classes)))\n",
    "\n",
    "    # Folder prefix including augmentation name\n",
    "    full_prefix = f\"{prefix}/results/{aug_name}\"\n",
    "    os.makedirs(full_prefix)\n",
    "\n",
    "    # Save confusion matrix\n",
    "    cm_path = f\"{full_prefix}/confusion_matrix_{aug_name}.npy\"\n",
    "    np.save(cm_path, cm)\n",
    "\n",
    "    # Save predictions\n",
    "    preds_path = f\"{full_prefix}/predictions_{aug_name}.npy\"\n",
    "    np.save(preds_path, np.array(all_preds))\n",
    "\n",
    "    # Save the model\n",
    "    model_path = f\"{full_prefix}/model_{aug_name}.pth\"\n",
    "    torch.save(model.state_dict(), model_path)\n",
    "\n",
    "    return cm\n",
    "\n",
    "def train_and_evaluate(model, train_loader, val_loader, test_loader, criterion, optimizer, scheduler, device, writer, prefix, epochs=5, patience=10, min_delta=0.001):\n",
    "    best_val_loss = float('inf')\n",
    "    best_val_acc = 0\n",
    "    epochs_no_improve = 0\n",
    "    early_stop = False\n",
    "    # Path to save the best model\n",
    "    os.makedirs(prefix)\n",
    "    best_model_path = f'{prefix}/best_model.pth'\n",
    "\n",
    "    for epoch in tqdm(range(epochs)):\n",
    "        model.train()\n",
    "        running_loss = 0.0\n",
    "        for images, labels in train_loader:\n",
    "            images, labels = images.to(device), labels.to(device)\n",
    "            optimizer.zero_grad()\n",
    "            outputs = model(images)\n",
    "            loss = criterion(outputs, labels)\n",
    "            loss.backward()\n",
    "            optimizer.step()\n",
    "            running_loss += loss.item() * images.size(0)\n",
    "        scheduler.step()  # Update the learning rate    \n",
    "\n",
    "        train_loss = running_loss / len(train_loader.dataset)\n",
    "\n",
    "        model.eval()\n",
    "        val_loss = 0.0\n",
    "        with torch.no_grad():\n",
    "            for images, labels in val_loader:\n",
    "                images, labels = images.to(device), labels.to(device)\n",
    "                outputs = model(images)\n",
    "                loss = criterion(outputs, labels)\n",
    "                val_loss += loss.item() * images.size(0)\n",
    "        val_loss /= len(val_loader.dataset)\n",
    "\n",
    "        train_accuracy = calculate_accuracy(model, train_loader, device)\n",
    "        val_accuracy = calculate_accuracy(model, val_loader, device)\n",
    "        test_accuracy = calculate_accuracy(model, test_loader, device)\n",
    "\n",
    "        writer.add_scalars('Loss', {'Train': train_loss, 'Validation': val_loss}, epoch)\n",
    "        writer.add_scalars('Accuracy', {'Train': train_accuracy, 'Validation': val_accuracy}, epoch)\n",
    "\n",
    "        if val_loss < best_val_loss - min_delta:\n",
    "            best_val_loss = val_loss\n",
    "            epochs_no_improve = 0\n",
    "            torch.save(model.state_dict(), best_model_path)  # Save the best model checkpoint\n",
    "        else:\n",
    "            epochs_no_improve += 1\n",
    "            if epochs_no_improve >= patience:\n",
    "                print(f\"Early stopping triggered after {epoch + 1} epochs.\")\n",
    "                early_stop = True\n",
    "                break\n",
    "\n",
    "        print(f'Epoch {epoch+1}, Train Loss: {train_loss:.4f}, Val Loss: {val_loss:.4f}, Train Acc: {train_accuracy:.2f}%, Val Acc: {val_accuracy:.2f}%, Test Acc: {test_accuracy:.2f}%')\n",
    "\n",
    "    model.load_state_dict(torch.load(best_model_path, map_location=device))\n",
    "    test_accuracy = calculate_accuracy(model, test_loader, device)\n",
    "    print(test_accuracy)\n",
    "    writer.add_scalar('Accuracy/test', test_accuracy, 1)\n",
    "    writer.close()\n",
    "    return test_accuracy\n"
   ]
  },
  {
   "metadata": {},
   "cell_type": "markdown",
   "source": [
    "# Training and evaluation loop\n",
    "This loop trains and evaluates the model for each augmentation dataset. The results are saved to Google Cloud Storage."
   ],
   "id": "642ea65c9d9f754"
  },
  {
   "cell_type": "code",
   "execution_count": null,
   "id": "4d760fce-80c3-47c4-98ec-ecc92d54632a",
   "metadata": {
    "tags": []
   },
   "outputs": [
    {
     "name": "stdout",
     "output_type": "stream",
     "text": [
      "8\n"
     ]
    },
    {
     "name": "stderr",
     "output_type": "stream",
     "text": [
      "  2%|▎         | 1/40 [03:50<2:29:42, 230.31s/it]"
     ]
    },
    {
     "name": "stdout",
     "output_type": "stream",
     "text": [
      "Epoch 1, Train Loss: 1.0730, Val Loss: 0.1695, Train Acc: 94.73%, Val Acc: 94.04%, Test Acc: 67.25%\n"
     ]
    },
    {
     "name": "stderr",
     "output_type": "stream",
     "text": [
      "  5%|▌         | 2/40 [05:27<1:36:19, 152.08s/it]"
     ]
    },
    {
     "name": "stdout",
     "output_type": "stream",
     "text": [
      "Epoch 2, Train Loss: 0.0446, Val Loss: 0.0809, Train Acc: 97.87%, Val Acc: 97.60%, Test Acc: 68.63%\n"
     ]
    },
    {
     "name": "stderr",
     "output_type": "stream",
     "text": [
      "  8%|▊         | 3/40 [07:05<1:18:30, 127.31s/it]"
     ]
    },
    {
     "name": "stdout",
     "output_type": "stream",
     "text": [
      "Epoch 3, Train Loss: 0.0311, Val Loss: 0.0201, Train Acc: 99.66%, Val Acc: 99.42%, Test Acc: 71.06%\n"
     ]
    },
    {
     "name": "stderr",
     "output_type": "stream",
     "text": [
      " 10%|█         | 4/40 [08:37<1:07:56, 113.25s/it]"
     ]
    },
    {
     "name": "stdout",
     "output_type": "stream",
     "text": [
      "Epoch 4, Train Loss: 0.0112, Val Loss: 0.0752, Train Acc: 97.93%, Val Acc: 97.87%, Test Acc: 67.82%\n"
     ]
    },
    {
     "name": "stderr",
     "output_type": "stream",
     "text": [
      " 12%|█▎        | 5/40 [10:08<1:01:33, 105.52s/it]"
     ]
    },
    {
     "name": "stdout",
     "output_type": "stream",
     "text": [
      "Epoch 5, Train Loss: 0.0169, Val Loss: 0.0206, Train Acc: 99.59%, Val Acc: 99.42%, Test Acc: 64.58%\n"
     ]
    },
    {
     "name": "stderr",
     "output_type": "stream",
     "text": [
      " 15%|█▌        | 6/40 [11:40<57:05, 100.75s/it]  "
     ]
    },
    {
     "name": "stdout",
     "output_type": "stream",
     "text": [
      "Epoch 6, Train Loss: 0.0128, Val Loss: 0.0108, Train Acc: 99.87%, Val Acc: 99.71%, Test Acc: 68.52%\n"
     ]
    },
    {
     "name": "stderr",
     "output_type": "stream",
     "text": [
      " 18%|█▊        | 7/40 [13:17<54:47, 99.63s/it] "
     ]
    },
    {
     "name": "stdout",
     "output_type": "stream",
     "text": [
      "Epoch 7, Train Loss: 0.0052, Val Loss: 0.0082, Train Acc: 99.93%, Val Acc: 99.75%, Test Acc: 72.69%\n"
     ]
    },
    {
     "name": "stderr",
     "output_type": "stream",
     "text": [
      " 20%|██        | 8/40 [14:55<52:44, 98.91s/it]"
     ]
    },
    {
     "name": "stdout",
     "output_type": "stream",
     "text": [
      "Epoch 8, Train Loss: 0.0024, Val Loss: 0.0057, Train Acc: 99.96%, Val Acc: 99.80%, Test Acc: 73.96%\n"
     ]
    },
    {
     "name": "stderr",
     "output_type": "stream",
     "text": [
      " 22%|██▎       | 9/40 [16:26<49:52, 96.54s/it]"
     ]
    },
    {
     "name": "stdout",
     "output_type": "stream",
     "text": [
      "Epoch 9, Train Loss: 0.0022, Val Loss: 0.0076, Train Acc: 99.96%, Val Acc: 99.80%, Test Acc: 73.26%\n"
     ]
    },
    {
     "name": "stderr",
     "output_type": "stream",
     "text": [
      " 25%|██▌       | 10/40 [17:57<47:29, 94.99s/it]"
     ]
    },
    {
     "name": "stdout",
     "output_type": "stream",
     "text": [
      "Epoch 10, Train Loss: 0.0160, Val Loss: 0.0128, Train Acc: 99.84%, Val Acc: 99.61%, Test Acc: 70.72%\n"
     ]
    },
    {
     "name": "stderr",
     "output_type": "stream",
     "text": [
      " 28%|██▊       | 11/40 [19:35<46:16, 95.74s/it]"
     ]
    },
    {
     "name": "stdout",
     "output_type": "stream",
     "text": [
      "Epoch 11, Train Loss: 0.0045, Val Loss: 0.0063, Train Acc: 99.99%, Val Acc: 99.79%, Test Acc: 77.43%\n"
     ]
    },
    {
     "name": "stderr",
     "output_type": "stream",
     "text": [
      " 30%|███       | 12/40 [21:06<44:02, 94.37s/it]"
     ]
    },
    {
     "name": "stdout",
     "output_type": "stream",
     "text": [
      "Epoch 12, Train Loss: 0.0011, Val Loss: 0.0055, Train Acc: 100.00%, Val Acc: 99.83%, Test Acc: 76.50%\n"
     ]
    },
    {
     "name": "stderr",
     "output_type": "stream",
     "text": [
      " 32%|███▎      | 13/40 [22:38<42:03, 93.46s/it]"
     ]
    },
    {
     "name": "stdout",
     "output_type": "stream",
     "text": [
      "Epoch 13, Train Loss: 0.0002, Val Loss: 0.0046, Train Acc: 100.00%, Val Acc: 99.85%, Test Acc: 77.08%\n"
     ]
    },
    {
     "name": "stderr",
     "output_type": "stream",
     "text": [
      " 35%|███▌      | 14/40 [24:09<40:14, 92.88s/it]"
     ]
    },
    {
     "name": "stdout",
     "output_type": "stream",
     "text": [
      "Epoch 14, Train Loss: 0.0001, Val Loss: 0.0046, Train Acc: 100.00%, Val Acc: 99.86%, Test Acc: 76.97%\n"
     ]
    },
    {
     "name": "stderr",
     "output_type": "stream",
     "text": [
      " 38%|███▊      | 15/40 [25:40<38:30, 92.43s/it]"
     ]
    },
    {
     "name": "stdout",
     "output_type": "stream",
     "text": [
      "Epoch 15, Train Loss: 0.0001, Val Loss: 0.0044, Train Acc: 100.00%, Val Acc: 99.87%, Test Acc: 77.08%\n"
     ]
    },
    {
     "name": "stderr",
     "output_type": "stream",
     "text": [
      " 40%|████      | 16/40 [27:18<37:32, 93.86s/it]"
     ]
    },
    {
     "name": "stdout",
     "output_type": "stream",
     "text": [
      "Epoch 16, Train Loss: 0.0001, Val Loss: 0.0045, Train Acc: 100.00%, Val Acc: 99.88%, Test Acc: 77.66%\n"
     ]
    },
    {
     "name": "stderr",
     "output_type": "stream",
     "text": [
      " 42%|████▎     | 17/40 [28:49<35:41, 93.12s/it]"
     ]
    },
    {
     "name": "stdout",
     "output_type": "stream",
     "text": [
      "Epoch 17, Train Loss: 0.0002, Val Loss: 0.1832, Train Acc: 98.68%, Val Acc: 98.37%, Test Acc: 70.02%\n"
     ]
    },
    {
     "name": "stderr",
     "output_type": "stream",
     "text": [
      " 45%|████▌     | 18/40 [30:20<33:56, 92.55s/it]"
     ]
    },
    {
     "name": "stdout",
     "output_type": "stream",
     "text": [
      "Epoch 18, Train Loss: 0.0389, Val Loss: 0.0099, Train Acc: 99.92%, Val Acc: 99.69%, Test Acc: 64.93%\n"
     ]
    },
    {
     "name": "stderr",
     "output_type": "stream",
     "text": [
      " 48%|████▊     | 19/40 [31:52<32:15, 92.18s/it]"
     ]
    },
    {
     "name": "stdout",
     "output_type": "stream",
     "text": [
      "Epoch 19, Train Loss: 0.0031, Val Loss: 0.0080, Train Acc: 99.97%, Val Acc: 99.75%, Test Acc: 61.69%\n"
     ]
    },
    {
     "name": "stderr",
     "output_type": "stream",
     "text": [
      " 50%|█████     | 20/40 [33:23<30:37, 91.88s/it]"
     ]
    },
    {
     "name": "stdout",
     "output_type": "stream",
     "text": [
      "Epoch 20, Train Loss: 0.0006, Val Loss: 0.0054, Train Acc: 100.00%, Val Acc: 99.85%, Test Acc: 63.19%\n"
     ]
    },
    {
     "name": "stderr",
     "output_type": "stream",
     "text": [
      " 52%|█████▎    | 21/40 [34:54<29:04, 91.82s/it]"
     ]
    },
    {
     "name": "stdout",
     "output_type": "stream",
     "text": [
      "Epoch 21, Train Loss: 0.0002, Val Loss: 0.0038, Train Acc: 100.00%, Val Acc: 99.90%, Test Acc: 63.43%\n"
     ]
    },
    {
     "name": "stderr",
     "output_type": "stream",
     "text": [
      " 55%|█████▌    | 22/40 [36:26<27:31, 91.77s/it]"
     ]
    },
    {
     "name": "stdout",
     "output_type": "stream",
     "text": [
      "Epoch 22, Train Loss: 0.0001, Val Loss: 0.0043, Train Acc: 100.00%, Val Acc: 99.89%, Test Acc: 63.43%\n"
     ]
    },
    {
     "name": "stderr",
     "output_type": "stream",
     "text": [
      " 57%|█████▊    | 23/40 [37:58<26:00, 91.77s/it]"
     ]
    },
    {
     "name": "stdout",
     "output_type": "stream",
     "text": [
      "Epoch 23, Train Loss: 0.0005, Val Loss: 0.0040, Train Acc: 100.00%, Val Acc: 99.90%, Test Acc: 70.72%\n"
     ]
    },
    {
     "name": "stderr",
     "output_type": "stream",
     "text": [
      " 60%|██████    | 24/40 [39:29<24:26, 91.68s/it]"
     ]
    },
    {
     "name": "stdout",
     "output_type": "stream",
     "text": [
      "Epoch 24, Train Loss: 0.0001, Val Loss: 0.0044, Train Acc: 100.00%, Val Acc: 99.89%, Test Acc: 71.88%\n"
     ]
    },
    {
     "name": "stderr",
     "output_type": "stream",
     "text": [
      " 62%|██████▎   | 25/40 [41:01<22:55, 91.69s/it]"
     ]
    },
    {
     "name": "stdout",
     "output_type": "stream",
     "text": [
      "Epoch 25, Train Loss: 0.0000, Val Loss: 0.0043, Train Acc: 100.00%, Val Acc: 99.89%, Test Acc: 71.30%\n"
     ]
    },
    {
     "name": "stderr",
     "output_type": "stream",
     "text": [
      " 62%|██████▎   | 25/40 [42:33<25:31, 102.12s/it]"
     ]
    },
    {
     "name": "stdout",
     "output_type": "stream",
     "text": [
      "Early stopping triggered after 26 epochs.\n"
     ]
    },
    {
     "name": "stderr",
     "output_type": "stream",
     "text": [
      "\n"
     ]
    },
    {
     "name": "stdout",
     "output_type": "stream",
     "text": [
      "77.66203703703704\n",
      "3\n"
     ]
    },
    {
     "name": "stderr",
     "output_type": "stream",
     "text": [
      "  2%|▎         | 1/40 [03:21<2:11:11, 201.82s/it]"
     ]
    },
    {
     "name": "stdout",
     "output_type": "stream",
     "text": [
      "Epoch 1, Train Loss: 0.5800, Val Loss: 0.0132, Train Acc: 99.69%, Val Acc: 99.65%, Test Acc: 36.57%\n"
     ]
    },
    {
     "name": "stderr",
     "output_type": "stream",
     "text": [
      "  5%|▌         | 2/40 [04:58<1:28:33, 139.83s/it]"
     ]
    },
    {
     "name": "stdout",
     "output_type": "stream",
     "text": [
      "Epoch 2, Train Loss: 0.0079, Val Loss: 0.3751, Train Acc: 94.13%, Val Acc: 93.89%, Test Acc: 37.04%\n"
     ]
    },
    {
     "name": "stderr",
     "output_type": "stream",
     "text": [
      "  8%|▊         | 3/40 [06:35<1:14:10, 120.29s/it]"
     ]
    },
    {
     "name": "stdout",
     "output_type": "stream",
     "text": [
      "Epoch 3, Train Loss: 0.0231, Val Loss: 0.0026, Train Acc: 99.98%, Val Acc: 99.95%, Test Acc: 39.35%\n"
     ]
    },
    {
     "name": "stderr",
     "output_type": "stream",
     "text": [
      " 10%|█         | 4/40 [08:06<1:05:19, 108.86s/it]"
     ]
    },
    {
     "name": "stdout",
     "output_type": "stream",
     "text": [
      "Epoch 4, Train Loss: 0.0013, Val Loss: 0.0011, Train Acc: 99.99%, Val Acc: 99.96%, Test Acc: 38.77%\n"
     ]
    },
    {
     "name": "stderr",
     "output_type": "stream",
     "text": [
      " 12%|█▎        | 5/40 [09:43<1:01:03, 104.66s/it]"
     ]
    },
    {
     "name": "stdout",
     "output_type": "stream",
     "text": [
      "Epoch 5, Train Loss: 0.0009, Val Loss: 0.0008, Train Acc: 99.99%, Val Acc: 99.97%, Test Acc: 39.81%\n"
     ]
    },
    {
     "name": "stderr",
     "output_type": "stream",
     "text": [
      " 15%|█▌        | 6/40 [11:15<56:45, 100.15s/it]  "
     ]
    },
    {
     "name": "stdout",
     "output_type": "stream",
     "text": [
      "Epoch 6, Train Loss: 0.0009, Val Loss: 0.4810, Train Acc: 97.39%, Val Acc: 97.22%, Test Acc: 33.56%\n"
     ]
    },
    {
     "name": "stderr",
     "output_type": "stream",
     "text": [
      " 18%|█▊        | 7/40 [12:46<53:30, 97.29s/it] "
     ]
    },
    {
     "name": "stdout",
     "output_type": "stream",
     "text": [
      "Epoch 7, Train Loss: 0.1759, Val Loss: 0.0372, Train Acc: 99.31%, Val Acc: 99.32%, Test Acc: 30.67%\n"
     ]
    },
    {
     "name": "stderr",
     "output_type": "stream",
     "text": [
      " 20%|██        | 8/40 [14:17<50:50, 95.34s/it]"
     ]
    },
    {
     "name": "stdout",
     "output_type": "stream",
     "text": [
      "Epoch 8, Train Loss: 0.0079, Val Loss: 0.0074, Train Acc: 99.98%, Val Acc: 99.93%, Test Acc: 34.61%\n"
     ]
    },
    {
     "name": "stderr",
     "output_type": "stream",
     "text": [
      " 22%|██▎       | 9/40 [15:49<48:35, 94.06s/it]"
     ]
    },
    {
     "name": "stdout",
     "output_type": "stream",
     "text": [
      "Epoch 9, Train Loss: 0.0047, Val Loss: 0.0034, Train Acc: 99.99%, Val Acc: 99.97%, Test Acc: 36.00%\n"
     ]
    },
    {
     "name": "stderr",
     "output_type": "stream",
     "text": [
      " 25%|██▌       | 10/40 [17:20<46:36, 93.22s/it]"
     ]
    },
    {
     "name": "stdout",
     "output_type": "stream",
     "text": [
      "Epoch 10, Train Loss: 0.0002, Val Loss: 0.1105, Train Acc: 98.50%, Val Acc: 98.47%, Test Acc: 36.00%\n"
     ]
    },
    {
     "name": "stderr",
     "output_type": "stream",
     "text": [
      " 28%|██▊       | 11/40 [18:52<44:51, 92.83s/it]"
     ]
    },
    {
     "name": "stdout",
     "output_type": "stream",
     "text": [
      "Epoch 11, Train Loss: 0.0072, Val Loss: 0.0009, Train Acc: 100.00%, Val Acc: 99.98%, Test Acc: 34.03%\n"
     ]
    },
    {
     "name": "stderr",
     "output_type": "stream",
     "text": [
      " 30%|███       | 12/40 [20:23<43:07, 92.43s/it]"
     ]
    },
    {
     "name": "stdout",
     "output_type": "stream",
     "text": [
      "Epoch 12, Train Loss: 0.0037, Val Loss: 0.0005, Train Acc: 100.00%, Val Acc: 99.98%, Test Acc: 36.81%\n"
     ]
    },
    {
     "name": "stderr",
     "output_type": "stream",
     "text": [
      " 32%|███▎      | 13/40 [21:55<41:27, 92.12s/it]"
     ]
    },
    {
     "name": "stdout",
     "output_type": "stream",
     "text": [
      "Epoch 13, Train Loss: 0.0002, Val Loss: 0.0009, Train Acc: 100.00%, Val Acc: 99.96%, Test Acc: 36.57%\n"
     ]
    },
    {
     "name": "stderr",
     "output_type": "stream",
     "text": [
      " 35%|███▌      | 14/40 [23:27<39:54, 92.08s/it]"
     ]
    },
    {
     "name": "stdout",
     "output_type": "stream",
     "text": [
      "Epoch 14, Train Loss: 0.0035, Val Loss: 0.0015, Train Acc: 99.99%, Val Acc: 99.96%, Test Acc: 35.42%\n"
     ]
    },
    {
     "name": "stderr",
     "output_type": "stream",
     "text": [
      " 35%|███▌      | 14/40 [24:59<46:24, 107.09s/it]"
     ]
    },
    {
     "name": "stdout",
     "output_type": "stream",
     "text": [
      "Early stopping triggered after 15 epochs.\n"
     ]
    },
    {
     "name": "stderr",
     "output_type": "stream",
     "text": [
      "\n"
     ]
    },
    {
     "name": "stdout",
     "output_type": "stream",
     "text": [
      "39.81481481481482\n",
      "5\n"
     ]
    },
    {
     "name": "stderr",
     "output_type": "stream",
     "text": [
      "  2%|▎         | 1/40 [03:22<2:11:44, 202.68s/it]"
     ]
    },
    {
     "name": "stdout",
     "output_type": "stream",
     "text": [
      "Epoch 1, Train Loss: 0.5919, Val Loss: 0.0397, Train Acc: 99.04%, Val Acc: 98.80%, Test Acc: 40.51%\n"
     ]
    },
    {
     "name": "stderr",
     "output_type": "stream",
     "text": [
      "  5%|▌         | 2/40 [05:00<1:29:16, 140.97s/it]"
     ]
    },
    {
     "name": "stdout",
     "output_type": "stream",
     "text": [
      "Epoch 2, Train Loss: 0.0312, Val Loss: 0.6231, Train Acc: 96.12%, Val Acc: 96.13%, Test Acc: 47.69%\n"
     ]
    },
    {
     "name": "stderr",
     "output_type": "stream",
     "text": [
      "  8%|▊         | 3/40 [06:38<1:14:49, 121.33s/it]"
     ]
    },
    {
     "name": "stdout",
     "output_type": "stream",
     "text": [
      "Epoch 3, Train Loss: 0.0306, Val Loss: 0.0032, Train Acc: 99.93%, Val Acc: 99.89%, Test Acc: 49.31%\n"
     ]
    },
    {
     "name": "stderr",
     "output_type": "stream",
     "text": [
      " 10%|█         | 4/40 [08:10<1:05:58, 109.95s/it]"
     ]
    },
    {
     "name": "stdout",
     "output_type": "stream",
     "text": [
      "Epoch 4, Train Loss: 0.0022, Val Loss: 0.0060, Train Acc: 99.86%, Val Acc: 99.80%, Test Acc: 48.38%\n"
     ]
    },
    {
     "name": "stderr",
     "output_type": "stream",
     "text": [
      " 12%|█▎        | 5/40 [09:42<1:00:21, 103.47s/it]"
     ]
    },
    {
     "name": "stdout",
     "output_type": "stream",
     "text": [
      "Epoch 5, Train Loss: 0.0024, Val Loss: 0.0024, Train Acc: 99.90%, Val Acc: 99.92%, Test Acc: 48.03%\n"
     ]
    },
    {
     "name": "stderr",
     "output_type": "stream",
     "text": [
      " 15%|█▌        | 6/40 [11:14<56:26, 99.59s/it]   "
     ]
    },
    {
     "name": "stdout",
     "output_type": "stream",
     "text": [
      "Epoch 6, Train Loss: 0.0025, Val Loss: 0.0012, Train Acc: 99.98%, Val Acc: 99.96%, Test Acc: 47.11%\n"
     ]
    },
    {
     "name": "stderr",
     "output_type": "stream",
     "text": [
      " 18%|█▊        | 7/40 [12:47<53:25, 97.15s/it]"
     ]
    },
    {
     "name": "stdout",
     "output_type": "stream",
     "text": [
      "Epoch 7, Train Loss: 0.0003, Val Loss: 0.0003, Train Acc: 100.00%, Val Acc: 100.00%, Test Acc: 48.61%\n"
     ]
    },
    {
     "name": "stderr",
     "output_type": "stream",
     "text": [
      " 20%|██        | 8/40 [14:19<50:58, 95.58s/it]"
     ]
    },
    {
     "name": "stdout",
     "output_type": "stream",
     "text": [
      "Epoch 8, Train Loss: 0.0002, Val Loss: 0.0003, Train Acc: 100.00%, Val Acc: 99.99%, Test Acc: 48.61%\n"
     ]
    },
    {
     "name": "stderr",
     "output_type": "stream",
     "text": [
      " 22%|██▎       | 9/40 [15:52<48:56, 94.72s/it]"
     ]
    },
    {
     "name": "stdout",
     "output_type": "stream",
     "text": [
      "Epoch 9, Train Loss: 0.0001, Val Loss: 0.0003, Train Acc: 100.00%, Val Acc: 99.99%, Test Acc: 48.84%\n"
     ]
    },
    {
     "name": "stderr",
     "output_type": "stream",
     "text": [
      " 25%|██▌       | 10/40 [17:24<46:58, 93.95s/it]"
     ]
    },
    {
     "name": "stdout",
     "output_type": "stream",
     "text": [
      "Epoch 10, Train Loss: 0.0000, Val Loss: 0.0002, Train Acc: 100.00%, Val Acc: 99.99%, Test Acc: 48.96%\n"
     ]
    },
    {
     "name": "stderr",
     "output_type": "stream",
     "text": [
      " 28%|██▊       | 11/40 [18:56<45:11, 93.49s/it]"
     ]
    },
    {
     "name": "stdout",
     "output_type": "stream",
     "text": [
      "Epoch 11, Train Loss: 0.0000, Val Loss: 0.0003, Train Acc: 100.00%, Val Acc: 99.99%, Test Acc: 48.03%\n"
     ]
    },
    {
     "name": "stderr",
     "output_type": "stream",
     "text": [
      " 30%|███       | 12/40 [20:28<43:25, 93.05s/it]"
     ]
    },
    {
     "name": "stdout",
     "output_type": "stream",
     "text": [
      "Epoch 12, Train Loss: 0.0000, Val Loss: 0.0003, Train Acc: 100.00%, Val Acc: 99.99%, Test Acc: 48.61%\n"
     ]
    },
    {
     "name": "stderr",
     "output_type": "stream",
     "text": [
      " 30%|███       | 12/40 [22:01<51:22, 110.09s/it]"
     ]
    },
    {
     "name": "stdout",
     "output_type": "stream",
     "text": [
      "Early stopping triggered after 13 epochs.\n"
     ]
    },
    {
     "name": "stderr",
     "output_type": "stream",
     "text": [
      "\n"
     ]
    },
    {
     "name": "stdout",
     "output_type": "stream",
     "text": [
      "49.30555555555556\n",
      "2\n"
     ]
    },
    {
     "name": "stderr",
     "output_type": "stream",
     "text": [
      "  2%|▎         | 1/40 [02:38<1:42:47, 158.13s/it]"
     ]
    },
    {
     "name": "stdout",
     "output_type": "stream",
     "text": [
      "Epoch 1, Train Loss: 0.7391, Val Loss: 0.4293, Train Acc: 95.73%, Val Acc: 95.54%, Test Acc: 30.09%\n",
      "Epoch 2, Train Loss: 0.0622, Val Loss: 0.0025, Train Acc: 99.97%, Val Acc: 99.92%, Test Acc: 43.63%\n"
     ]
    },
    {
     "name": "stderr",
     "output_type": "stream",
     "text": [
      "  8%|▊         | 3/40 [05:50<1:07:55, 110.15s/it]"
     ]
    },
    {
     "name": "stdout",
     "output_type": "stream",
     "text": [
      "Epoch 3, Train Loss: 0.0010, Val Loss: 0.0011, Train Acc: 100.00%, Val Acc: 99.97%, Test Acc: 44.21%\n"
     ]
    },
    {
     "name": "stderr",
     "output_type": "stream",
     "text": [
      " 10%|█         | 4/40 [07:20<1:01:21, 102.25s/it]"
     ]
    },
    {
     "name": "stdout",
     "output_type": "stream",
     "text": [
      "Epoch 4, Train Loss: 0.0007, Val Loss: 0.0008, Train Acc: 100.00%, Val Acc: 99.98%, Test Acc: 44.10%\n"
     ]
    },
    {
     "name": "stderr",
     "output_type": "stream",
     "text": [
      " 12%|█▎        | 5/40 [08:56<58:21, 100.05s/it]  "
     ]
    },
    {
     "name": "stdout",
     "output_type": "stream",
     "text": [
      "Epoch 5, Train Loss: 0.0005, Val Loss: 0.0005, Train Acc: 100.00%, Val Acc: 99.99%, Test Acc: 44.33%\n"
     ]
    },
    {
     "name": "stderr",
     "output_type": "stream",
     "text": [
      " 15%|█▌        | 6/40 [10:27<54:49, 96.75s/it] "
     ]
    },
    {
     "name": "stdout",
     "output_type": "stream",
     "text": [
      "Epoch 6, Train Loss: 0.0005, Val Loss: 0.0018, Train Acc: 99.99%, Val Acc: 99.94%, Test Acc: 43.87%\n"
     ]
    },
    {
     "name": "stderr",
     "output_type": "stream",
     "text": [
      " 18%|█▊        | 7/40 [11:57<52:02, 94.62s/it]"
     ]
    },
    {
     "name": "stdout",
     "output_type": "stream",
     "text": [
      "Epoch 7, Train Loss: 0.0003, Val Loss: 0.0005, Train Acc: 100.00%, Val Acc: 99.99%, Test Acc: 43.40%\n"
     ]
    },
    {
     "name": "stderr",
     "output_type": "stream",
     "text": [
      " 20%|██        | 8/40 [13:28<49:45, 93.31s/it]"
     ]
    },
    {
     "name": "stdout",
     "output_type": "stream",
     "text": [
      "Epoch 8, Train Loss: 0.0002, Val Loss: 0.0028, Train Acc: 99.97%, Val Acc: 99.90%, Test Acc: 44.21%\n"
     ]
    },
    {
     "name": "stderr",
     "output_type": "stream",
     "text": [
      " 22%|██▎       | 9/40 [14:58<47:44, 92.41s/it]"
     ]
    },
    {
     "name": "stdout",
     "output_type": "stream",
     "text": [
      "Epoch 9, Train Loss: 0.0013, Val Loss: 0.0012, Train Acc: 100.00%, Val Acc: 99.98%, Test Acc: 42.48%\n"
     ]
    },
    {
     "name": "stderr",
     "output_type": "stream",
     "text": [
      " 25%|██▌       | 10/40 [16:28<45:51, 91.73s/it]"
     ]
    },
    {
     "name": "stdout",
     "output_type": "stream",
     "text": [
      "Epoch 10, Train Loss: 0.0001, Val Loss: 0.0006, Train Acc: 100.00%, Val Acc: 99.99%, Test Acc: 43.17%\n"
     ]
    },
    {
     "name": "stderr",
     "output_type": "stream",
     "text": [
      " 28%|██▊       | 11/40 [17:58<44:07, 91.29s/it]"
     ]
    },
    {
     "name": "stdout",
     "output_type": "stream",
     "text": [
      "Epoch 11, Train Loss: 0.0001, Val Loss: 0.0006, Train Acc: 100.00%, Val Acc: 99.99%, Test Acc: 43.52%\n"
     ]
    },
    {
     "name": "stderr",
     "output_type": "stream",
     "text": [
      " 30%|███       | 12/40 [19:28<42:25, 90.90s/it]"
     ]
    },
    {
     "name": "stdout",
     "output_type": "stream",
     "text": [
      "Epoch 12, Train Loss: 0.0000, Val Loss: 0.0006, Train Acc: 100.00%, Val Acc: 99.99%, Test Acc: 43.63%\n"
     ]
    },
    {
     "name": "stderr",
     "output_type": "stream",
     "text": [
      " 32%|███▎      | 13/40 [20:59<40:50, 90.75s/it]"
     ]
    },
    {
     "name": "stdout",
     "output_type": "stream",
     "text": [
      "Epoch 13, Train Loss: 0.0000, Val Loss: 0.0048, Train Acc: 99.86%, Val Acc: 99.82%, Test Acc: 44.10%\n"
     ]
    },
    {
     "name": "stderr",
     "output_type": "stream",
     "text": [
      " 35%|███▌      | 14/40 [22:29<39:14, 90.56s/it]"
     ]
    },
    {
     "name": "stdout",
     "output_type": "stream",
     "text": [
      "Epoch 14, Train Loss: 0.0029, Val Loss: 0.0006, Train Acc: 100.00%, Val Acc: 99.99%, Test Acc: 41.32%\n"
     ]
    },
    {
     "name": "stderr",
     "output_type": "stream",
     "text": [
      " 35%|███▌      | 14/40 [23:59<44:33, 102.82s/it]"
     ]
    },
    {
     "name": "stdout",
     "output_type": "stream",
     "text": [
      "Early stopping triggered after 15 epochs.\n"
     ]
    },
    {
     "name": "stderr",
     "output_type": "stream",
     "text": [
      "\n"
     ]
    },
    {
     "name": "stdout",
     "output_type": "stream",
     "text": [
      "44.3287037037037\n",
      "7\n"
     ]
    },
    {
     "name": "stderr",
     "output_type": "stream",
     "text": [
      "  2%|▎         | 1/40 [03:17<2:08:04, 197.04s/it]"
     ]
    },
    {
     "name": "stdout",
     "output_type": "stream",
     "text": [
      "Epoch 1, Train Loss: 0.9853, Val Loss: 0.0632, Train Acc: 97.59%, Val Acc: 97.58%, Test Acc: 56.71%\n"
     ]
    },
    {
     "name": "stderr",
     "output_type": "stream",
     "text": [
      "  5%|▌         | 2/40 [04:54<1:27:39, 138.41s/it]"
     ]
    },
    {
     "name": "stdout",
     "output_type": "stream",
     "text": [
      "Epoch 2, Train Loss: 0.0298, Val Loss: 0.0649, Train Acc: 97.79%, Val Acc: 97.69%, Test Acc: 58.68%\n"
     ]
    },
    {
     "name": "stderr",
     "output_type": "stream",
     "text": [
      "  8%|▊         | 3/40 [06:26<1:12:12, 117.09s/it]"
     ]
    },
    {
     "name": "stdout",
     "output_type": "stream",
     "text": [
      "Epoch 3, Train Loss: 0.0183, Val Loss: 0.0142, Train Acc: 99.73%, Val Acc: 99.55%, Test Acc: 57.64%\n"
     ]
    },
    {
     "name": "stderr",
     "output_type": "stream",
     "text": [
      " 10%|█         | 4/40 [07:57<1:04:15, 107.09s/it]"
     ]
    },
    {
     "name": "stdout",
     "output_type": "stream",
     "text": [
      "Epoch 4, Train Loss: 0.0042, Val Loss: 0.0079, Train Acc: 99.92%, Val Acc: 99.78%, Test Acc: 53.36%\n"
     ]
    },
    {
     "name": "stderr",
     "output_type": "stream",
     "text": [
      " 12%|█▎        | 5/40 [09:29<59:14, 101.55s/it]  "
     ]
    },
    {
     "name": "stdout",
     "output_type": "stream",
     "text": [
      "Epoch 5, Train Loss: 0.0062, Val Loss: 0.0084, Train Acc: 99.90%, Val Acc: 99.69%, Test Acc: 54.98%\n"
     ]
    },
    {
     "name": "stderr",
     "output_type": "stream",
     "text": [
      " 15%|█▌        | 6/40 [11:07<56:46, 100.19s/it]"
     ]
    },
    {
     "name": "stdout",
     "output_type": "stream",
     "text": [
      "Epoch 6, Train Loss: 0.0096, Val Loss: 0.0602, Train Acc: 98.52%, Val Acc: 98.21%, Test Acc: 59.38%\n"
     ]
    },
    {
     "name": "stderr",
     "output_type": "stream",
     "text": [
      " 18%|█▊        | 7/40 [12:39<53:40, 97.60s/it] "
     ]
    },
    {
     "name": "stdout",
     "output_type": "stream",
     "text": [
      "Epoch 7, Train Loss: 0.0089, Val Loss: 0.0247, Train Acc: 99.51%, Val Acc: 99.35%, Test Acc: 58.56%\n"
     ]
    },
    {
     "name": "stderr",
     "output_type": "stream",
     "text": [
      " 20%|██        | 8/40 [14:17<52:06, 97.70s/it]"
     ]
    },
    {
     "name": "stdout",
     "output_type": "stream",
     "text": [
      "Epoch 8, Train Loss: 0.0054, Val Loss: 0.0074, Train Acc: 99.96%, Val Acc: 99.84%, Test Acc: 64.70%\n"
     ]
    },
    {
     "name": "stderr",
     "output_type": "stream",
     "text": [
      " 22%|██▎       | 9/40 [15:49<49:35, 95.98s/it]"
     ]
    },
    {
     "name": "stdout",
     "output_type": "stream",
     "text": [
      "Epoch 9, Train Loss: 0.0008, Val Loss: 0.0067, Train Acc: 99.99%, Val Acc: 99.85%, Test Acc: 64.35%\n"
     ]
    },
    {
     "name": "stderr",
     "output_type": "stream",
     "text": [
      " 25%|██▌       | 10/40 [17:21<47:22, 94.74s/it]"
     ]
    },
    {
     "name": "stdout",
     "output_type": "stream",
     "text": [
      "Epoch 10, Train Loss: 0.0002, Val Loss: 0.0054, Train Acc: 99.99%, Val Acc: 99.89%, Test Acc: 64.35%\n"
     ]
    },
    {
     "name": "stderr",
     "output_type": "stream",
     "text": [
      " 28%|██▊       | 11/40 [18:55<45:43, 94.61s/it]"
     ]
    },
    {
     "name": "stdout",
     "output_type": "stream",
     "text": [
      "Epoch 11, Train Loss: 0.0002, Val Loss: 0.0050, Train Acc: 100.00%, Val Acc: 99.90%, Test Acc: 63.66%\n"
     ]
    },
    {
     "name": "stderr",
     "output_type": "stream",
     "text": [
      " 30%|███       | 12/40 [20:27<43:45, 93.76s/it]"
     ]
    },
    {
     "name": "stdout",
     "output_type": "stream",
     "text": [
      "Epoch 12, Train Loss: 0.0000, Val Loss: 0.0047, Train Acc: 100.00%, Val Acc: 99.91%, Test Acc: 62.62%\n"
     ]
    },
    {
     "name": "stderr",
     "output_type": "stream",
     "text": [
      " 32%|███▎      | 13/40 [21:59<41:55, 93.16s/it]"
     ]
    },
    {
     "name": "stdout",
     "output_type": "stream",
     "text": [
      "Epoch 13, Train Loss: 0.0000, Val Loss: 0.0046, Train Acc: 100.00%, Val Acc: 99.91%, Test Acc: 62.96%\n"
     ]
    },
    {
     "name": "stderr",
     "output_type": "stream",
     "text": [
      " 35%|███▌      | 14/40 [23:31<40:12, 92.81s/it]"
     ]
    },
    {
     "name": "stdout",
     "output_type": "stream",
     "text": [
      "Epoch 14, Train Loss: 0.0000, Val Loss: 0.0049, Train Acc: 100.00%, Val Acc: 99.91%, Test Acc: 63.89%\n"
     ]
    },
    {
     "name": "stderr",
     "output_type": "stream",
     "text": [
      " 38%|███▊      | 15/40 [25:03<38:33, 92.56s/it]"
     ]
    },
    {
     "name": "stdout",
     "output_type": "stream",
     "text": [
      "Epoch 15, Train Loss: 0.0000, Val Loss: 0.0046, Train Acc: 100.00%, Val Acc: 99.91%, Test Acc: 62.85%\n"
     ]
    },
    {
     "name": "stderr",
     "output_type": "stream",
     "text": [
      " 40%|████      | 16/40 [26:35<36:56, 92.36s/it]"
     ]
    },
    {
     "name": "stdout",
     "output_type": "stream",
     "text": [
      "Epoch 16, Train Loss: 0.0000, Val Loss: 0.0048, Train Acc: 100.00%, Val Acc: 99.91%, Test Acc: 62.38%\n"
     ]
    },
    {
     "name": "stderr",
     "output_type": "stream",
     "text": [
      " 42%|████▎     | 17/40 [28:07<35:20, 92.21s/it]"
     ]
    },
    {
     "name": "stdout",
     "output_type": "stream",
     "text": [
      "Epoch 17, Train Loss: 0.0000, Val Loss: 0.0048, Train Acc: 100.00%, Val Acc: 99.91%, Test Acc: 62.85%\n"
     ]
    },
    {
     "name": "stderr",
     "output_type": "stream",
     "text": [
      " 42%|████▎     | 17/40 [29:38<40:06, 104.64s/it]"
     ]
    },
    {
     "name": "stdout",
     "output_type": "stream",
     "text": [
      "Early stopping triggered after 18 epochs.\n"
     ]
    },
    {
     "name": "stderr",
     "output_type": "stream",
     "text": [
      "\n"
     ]
    },
    {
     "name": "stdout",
     "output_type": "stream",
     "text": [
      "64.69907407407408\n",
      "6\n"
     ]
    },
    {
     "name": "stderr",
     "output_type": "stream",
     "text": [
      "  2%|▎         | 1/40 [03:23<2:12:21, 203.64s/it]"
     ]
    },
    {
     "name": "stdout",
     "output_type": "stream",
     "text": [
      "Epoch 1, Train Loss: 0.7326, Val Loss: 0.0221, Train Acc: 99.41%, Val Acc: 99.25%, Test Acc: 48.50%\n"
     ]
    },
    {
     "name": "stderr",
     "output_type": "stream",
     "text": [
      "  5%|▌         | 2/40 [04:55<1:27:14, 137.75s/it]"
     ]
    },
    {
     "name": "stdout",
     "output_type": "stream",
     "text": [
      "Epoch 2, Train Loss: 0.0112, Val Loss: 0.8276, Train Acc: 90.52%, Val Acc: 90.41%, Test Acc: 39.12%\n"
     ]
    },
    {
     "name": "stderr",
     "output_type": "stream",
     "text": [
      "  8%|▊         | 3/40 [06:27<1:12:06, 116.93s/it]"
     ]
    },
    {
     "name": "stdout",
     "output_type": "stream",
     "text": [
      "Epoch 3, Train Loss: 0.0194, Val Loss: 0.0056, Train Acc: 99.93%, Val Acc: 99.84%, Test Acc: 46.30%\n"
     ]
    },
    {
     "name": "stderr",
     "output_type": "stream",
     "text": [
      " 10%|█         | 4/40 [08:05<1:05:39, 109.44s/it]"
     ]
    },
    {
     "name": "stdout",
     "output_type": "stream",
     "text": [
      "Epoch 4, Train Loss: 0.0041, Val Loss: 0.0032, Train Acc: 99.97%, Val Acc: 99.92%, Test Acc: 50.58%\n"
     ]
    },
    {
     "name": "stderr",
     "output_type": "stream",
     "text": [
      " 12%|█▎        | 5/40 [09:37<1:00:10, 103.16s/it]"
     ]
    },
    {
     "name": "stdout",
     "output_type": "stream",
     "text": [
      "Epoch 5, Train Loss: 0.0037, Val Loss: 0.0086, Train Acc: 99.81%, Val Acc: 99.68%, Test Acc: 50.12%\n"
     ]
    },
    {
     "name": "stderr",
     "output_type": "stream",
     "text": [
      " 15%|█▌        | 6/40 [11:09<56:18, 99.37s/it]   "
     ]
    },
    {
     "name": "stdout",
     "output_type": "stream",
     "text": [
      "Epoch 6, Train Loss: 0.0017, Val Loss: 0.0020, Train Acc: 100.00%, Val Acc: 99.95%, Test Acc: 46.99%\n"
     ]
    },
    {
     "name": "stderr",
     "output_type": "stream",
     "text": [
      " 18%|█▊        | 7/40 [12:41<53:22, 97.04s/it]"
     ]
    },
    {
     "name": "stdout",
     "output_type": "stream",
     "text": [
      "Epoch 7, Train Loss: 0.0012, Val Loss: 0.0037, Train Acc: 99.99%, Val Acc: 99.92%, Test Acc: 48.73%\n"
     ]
    },
    {
     "name": "stderr",
     "output_type": "stream",
     "text": [
      " 20%|██        | 8/40 [14:13<50:52, 95.39s/it]"
     ]
    },
    {
     "name": "stdout",
     "output_type": "stream",
     "text": [
      "Epoch 8, Train Loss: 0.0005, Val Loss: 0.0022, Train Acc: 100.00%, Val Acc: 99.95%, Test Acc: 46.88%\n"
     ]
    },
    {
     "name": "stderr",
     "output_type": "stream",
     "text": [
      " 22%|██▎       | 9/40 [15:45<48:43, 94.32s/it]"
     ]
    },
    {
     "name": "stdout",
     "output_type": "stream",
     "text": [
      "Epoch 9, Train Loss: 0.0001, Val Loss: 0.0210, Train Acc: 99.36%, Val Acc: 99.35%, Test Acc: 46.30%\n"
     ]
    },
    {
     "name": "stderr",
     "output_type": "stream",
     "text": [
      " 25%|██▌       | 10/40 [17:17<46:47, 93.60s/it]"
     ]
    },
    {
     "name": "stdout",
     "output_type": "stream",
     "text": [
      "Epoch 10, Train Loss: 0.1109, Val Loss: 0.0407, Train Acc: 99.28%, Val Acc: 99.16%, Test Acc: 48.38%\n"
     ]
    },
    {
     "name": "stderr",
     "output_type": "stream",
     "text": [
      " 28%|██▊       | 11/40 [18:55<45:50, 94.84s/it]"
     ]
    },
    {
     "name": "stdout",
     "output_type": "stream",
     "text": [
      "Epoch 11, Train Loss: 0.0079, Val Loss: 0.0023, Train Acc: 99.96%, Val Acc: 99.92%, Test Acc: 53.82%\n"
     ]
    },
    {
     "name": "stderr",
     "output_type": "stream",
     "text": [
      " 30%|███       | 12/40 [20:27<43:53, 94.06s/it]"
     ]
    },
    {
     "name": "stdout",
     "output_type": "stream",
     "text": [
      "Epoch 12, Train Loss: 0.0016, Val Loss: 0.0021, Train Acc: 99.98%, Val Acc: 99.89%, Test Acc: 53.24%\n"
     ]
    },
    {
     "name": "stderr",
     "output_type": "stream",
     "text": [
      " 32%|███▎      | 13/40 [21:59<42:03, 93.46s/it]"
     ]
    },
    {
     "name": "stdout",
     "output_type": "stream",
     "text": [
      "Epoch 13, Train Loss: 0.0010, Val Loss: 0.0024, Train Acc: 99.97%, Val Acc: 99.93%, Test Acc: 52.31%\n"
     ]
    },
    {
     "name": "stderr",
     "output_type": "stream",
     "text": [
      " 35%|███▌      | 14/40 [23:31<40:17, 93.00s/it]"
     ]
    },
    {
     "name": "stdout",
     "output_type": "stream",
     "text": [
      "Epoch 14, Train Loss: 0.0003, Val Loss: 0.0013, Train Acc: 100.00%, Val Acc: 99.95%, Test Acc: 52.78%\n"
     ]
    },
    {
     "name": "stderr",
     "output_type": "stream",
     "text": [
      " 38%|███▊      | 15/40 [25:03<38:36, 92.65s/it]"
     ]
    },
    {
     "name": "stdout",
     "output_type": "stream",
     "text": [
      "Epoch 15, Train Loss: 0.0002, Val Loss: 0.0010, Train Acc: 100.00%, Val Acc: 99.97%, Test Acc: 52.43%\n"
     ]
    },
    {
     "name": "stderr",
     "output_type": "stream",
     "text": [
      " 40%|████      | 16/40 [26:35<36:58, 92.43s/it]"
     ]
    },
    {
     "name": "stdout",
     "output_type": "stream",
     "text": [
      "Epoch 16, Train Loss: 0.0001, Val Loss: 0.0009, Train Acc: 100.00%, Val Acc: 99.97%, Test Acc: 53.36%\n"
     ]
    },
    {
     "name": "stderr",
     "output_type": "stream",
     "text": [
      " 42%|████▎     | 17/40 [28:07<35:22, 92.30s/it]"
     ]
    },
    {
     "name": "stdout",
     "output_type": "stream",
     "text": [
      "Epoch 17, Train Loss: 0.0001, Val Loss: 0.0008, Train Acc: 100.00%, Val Acc: 99.96%, Test Acc: 53.12%\n"
     ]
    },
    {
     "name": "stderr",
     "output_type": "stream",
     "text": [
      " 45%|████▌     | 18/40 [29:39<33:48, 92.22s/it]"
     ]
    },
    {
     "name": "stdout",
     "output_type": "stream",
     "text": [
      "Epoch 18, Train Loss: 0.0000, Val Loss: 0.0009, Train Acc: 100.00%, Val Acc: 99.97%, Test Acc: 52.55%\n"
     ]
    },
    {
     "name": "stderr",
     "output_type": "stream",
     "text": [
      " 48%|████▊     | 19/40 [31:11<32:14, 92.13s/it]"
     ]
    },
    {
     "name": "stdout",
     "output_type": "stream",
     "text": [
      "Epoch 19, Train Loss: 0.0001, Val Loss: 0.0008, Train Acc: 100.00%, Val Acc: 99.97%, Test Acc: 53.01%\n"
     ]
    },
    {
     "name": "stderr",
     "output_type": "stream",
     "text": [
      " 50%|█████     | 20/40 [32:42<30:40, 92.04s/it]"
     ]
    },
    {
     "name": "stdout",
     "output_type": "stream",
     "text": [
      "Epoch 20, Train Loss: 0.0000, Val Loss: 0.0009, Train Acc: 100.00%, Val Acc: 99.96%, Test Acc: 52.66%\n"
     ]
    },
    {
     "name": "stderr",
     "output_type": "stream",
     "text": [
      " 50%|█████     | 20/40 [34:14<34:14, 102.74s/it]"
     ]
    },
    {
     "name": "stdout",
     "output_type": "stream",
     "text": [
      "Early stopping triggered after 21 epochs.\n"
     ]
    },
    {
     "name": "stderr",
     "output_type": "stream",
     "text": [
      "\n"
     ]
    },
    {
     "name": "stdout",
     "output_type": "stream",
     "text": [
      "53.81944444444444\n",
      "1\n"
     ]
    },
    {
     "name": "stderr",
     "output_type": "stream",
     "text": [
      "  2%|▎         | 1/40 [02:32<1:39:18, 152.79s/it]"
     ]
    },
    {
     "name": "stdout",
     "output_type": "stream",
     "text": [
      "Epoch 1, Train Loss: 0.5434, Val Loss: 0.0029, Train Acc: 99.96%, Val Acc: 99.93%, Test Acc: 32.99%\n"
     ]
    },
    {
     "name": "stderr",
     "output_type": "stream",
     "text": [
      "  5%|▌         | 2/40 [04:02<1:13:22, 115.86s/it]"
     ]
    },
    {
     "name": "stdout",
     "output_type": "stream",
     "text": [
      "Epoch 2, Train Loss: 0.0014, Val Loss: 0.2484, Train Acc: 97.35%, Val Acc: 97.25%, Test Acc: 32.06%\n"
     ]
    },
    {
     "name": "stderr",
     "output_type": "stream",
     "text": [
      "  8%|▊         | 3/40 [05:38<1:05:53, 106.86s/it]"
     ]
    },
    {
     "name": "stdout",
     "output_type": "stream",
     "text": [
      "Epoch 3, Train Loss: 0.0092, Val Loss: 0.0010, Train Acc: 100.00%, Val Acc: 99.98%, Test Acc: 33.33%\n"
     ]
    },
    {
     "name": "stderr",
     "output_type": "stream",
     "text": [
      " 10%|█         | 4/40 [07:16<1:01:53, 103.15s/it]"
     ]
    },
    {
     "name": "stdout",
     "output_type": "stream",
     "text": [
      "Epoch 4, Train Loss: 0.0009, Val Loss: 0.0002, Train Acc: 100.00%, Val Acc: 100.00%, Test Acc: 34.49%\n"
     ]
    },
    {
     "name": "stderr",
     "output_type": "stream",
     "text": [
      " 12%|█▎        | 5/40 [08:47<57:33, 98.67s/it]   "
     ]
    },
    {
     "name": "stdout",
     "output_type": "stream",
     "text": [
      "Epoch 5, Train Loss: 0.0001, Val Loss: 0.0001, Train Acc: 100.00%, Val Acc: 100.00%, Test Acc: 34.38%\n"
     ]
    },
    {
     "name": "stderr",
     "output_type": "stream",
     "text": [
      " 15%|█▌        | 6/40 [10:17<54:21, 95.91s/it]"
     ]
    },
    {
     "name": "stdout",
     "output_type": "stream",
     "text": [
      "Epoch 6, Train Loss: 0.0001, Val Loss: 0.3399, Train Acc: 96.44%, Val Acc: 96.52%, Test Acc: 33.22%\n"
     ]
    },
    {
     "name": "stderr",
     "output_type": "stream",
     "text": [
      " 18%|█▊        | 7/40 [11:48<51:45, 94.11s/it]"
     ]
    },
    {
     "name": "stdout",
     "output_type": "stream",
     "text": [
      "Epoch 7, Train Loss: 0.2766, Val Loss: 8.6946, Train Acc: 73.92%, Val Acc: 74.27%, Test Acc: 25.23%\n"
     ]
    },
    {
     "name": "stderr",
     "output_type": "stream",
     "text": [
      " 20%|██        | 8/40 [13:18<49:30, 92.83s/it]"
     ]
    },
    {
     "name": "stdout",
     "output_type": "stream",
     "text": [
      "Epoch 8, Train Loss: 0.1823, Val Loss: 0.0018, Train Acc: 99.97%, Val Acc: 99.92%, Test Acc: 29.75%\n"
     ]
    },
    {
     "name": "stderr",
     "output_type": "stream",
     "text": [
      " 22%|██▎       | 9/40 [14:48<47:31, 92.00s/it]"
     ]
    },
    {
     "name": "stdout",
     "output_type": "stream",
     "text": [
      "Epoch 9, Train Loss: 0.0007, Val Loss: 0.0006, Train Acc: 99.99%, Val Acc: 99.98%, Test Acc: 30.32%\n"
     ]
    },
    {
     "name": "stderr",
     "output_type": "stream",
     "text": [
      " 25%|██▌       | 10/40 [16:18<45:43, 91.45s/it]"
     ]
    },
    {
     "name": "stdout",
     "output_type": "stream",
     "text": [
      "Epoch 10, Train Loss: 0.0002, Val Loss: 0.0009, Train Acc: 100.00%, Val Acc: 99.97%, Test Acc: 30.79%\n"
     ]
    },
    {
     "name": "stderr",
     "output_type": "stream",
     "text": [
      " 28%|██▊       | 11/40 [17:48<43:59, 91.01s/it]"
     ]
    },
    {
     "name": "stdout",
     "output_type": "stream",
     "text": [
      "Epoch 11, Train Loss: 0.0000, Val Loss: 0.0007, Train Acc: 100.00%, Val Acc: 99.98%, Test Acc: 30.56%\n"
     ]
    },
    {
     "name": "stderr",
     "output_type": "stream",
     "text": [
      " 30%|███       | 12/40 [19:18<42:18, 90.65s/it]"
     ]
    },
    {
     "name": "stdout",
     "output_type": "stream",
     "text": [
      "Epoch 12, Train Loss: 0.0000, Val Loss: 0.0007, Train Acc: 100.00%, Val Acc: 99.98%, Test Acc: 30.21%\n"
     ]
    },
    {
     "name": "stderr",
     "output_type": "stream",
     "text": [
      " 32%|███▎      | 13/40 [20:48<40:43, 90.51s/it]"
     ]
    },
    {
     "name": "stdout",
     "output_type": "stream",
     "text": [
      "Epoch 13, Train Loss: 0.0000, Val Loss: 0.0006, Train Acc: 100.00%, Val Acc: 99.98%, Test Acc: 30.44%\n"
     ]
    },
    {
     "name": "stderr",
     "output_type": "stream",
     "text": [
      " 32%|███▎      | 13/40 [22:18<46:20, 102.98s/it]"
     ]
    },
    {
     "name": "stdout",
     "output_type": "stream",
     "text": [
      "Early stopping triggered after 14 epochs.\n"
     ]
    },
    {
     "name": "stderr",
     "output_type": "stream",
     "text": [
      "\n"
     ]
    },
    {
     "name": "stdout",
     "output_type": "stream",
     "text": [
      "34.49074074074074\n",
      "4\n"
     ]
    },
    {
     "name": "stderr",
     "output_type": "stream",
     "text": [
      "  2%|▎         | 1/40 [03:32<2:17:50, 212.07s/it]"
     ]
    },
    {
     "name": "stdout",
     "output_type": "stream",
     "text": [
      "Epoch 1, Train Loss: 0.8526, Val Loss: 0.1758, Train Acc: 97.55%, Val Acc: 97.36%, Test Acc: 39.47%\n"
     ]
    },
    {
     "name": "stderr",
     "output_type": "stream",
     "text": [
      "  5%|▌         | 2/40 [05:09<1:31:46, 144.91s/it]"
     ]
    },
    {
     "name": "stdout",
     "output_type": "stream",
     "text": [
      "Epoch 2, Train Loss: 0.0212, Val Loss: 0.0033, Train Acc: 99.96%, Val Acc: 99.90%, Test Acc: 45.37%\n"
     ]
    },
    {
     "name": "stderr",
     "output_type": "stream",
     "text": [
      "  8%|▊         | 3/40 [06:41<1:14:26, 120.71s/it]"
     ]
    },
    {
     "name": "stdout",
     "output_type": "stream",
     "text": [
      "Epoch 3, Train Loss: 0.0018, Val Loss: 0.0042, Train Acc: 99.89%, Val Acc: 99.86%, Test Acc: 45.14%\n"
     ]
    },
    {
     "name": "stderr",
     "output_type": "stream",
     "text": [
      " 10%|█         | 4/40 [08:19<1:07:00, 111.68s/it]"
     ]
    },
    {
     "name": "stdout",
     "output_type": "stream",
     "text": [
      "Epoch 4, Train Loss: 0.0050, Val Loss: 0.0009, Train Acc: 99.99%, Val Acc: 99.97%, Test Acc: 45.60%\n"
     ]
    },
    {
     "name": "stderr",
     "output_type": "stream",
     "text": [
      " 12%|█▎        | 5/40 [09:51<1:00:57, 104.49s/it]"
     ]
    },
    {
     "name": "stdout",
     "output_type": "stream",
     "text": [
      "Epoch 5, Train Loss: 0.0014, Val Loss: 0.1586, Train Acc: 97.41%, Val Acc: 97.15%, Test Acc: 45.25%\n"
     ]
    },
    {
     "name": "stderr",
     "output_type": "stream",
     "text": [
      " 15%|█▌        | 6/40 [11:23<56:46, 100.20s/it]  "
     ]
    },
    {
     "name": "stdout",
     "output_type": "stream",
     "text": [
      "Epoch 6, Train Loss: 0.0050, Val Loss: 0.3750, Train Acc: 95.73%, Val Acc: 95.85%, Test Acc: 44.10%\n"
     ]
    },
    {
     "name": "stderr",
     "output_type": "stream",
     "text": [
      " 18%|█▊        | 7/40 [12:55<53:34, 97.42s/it] "
     ]
    },
    {
     "name": "stdout",
     "output_type": "stream",
     "text": [
      "Epoch 7, Train Loss: 0.0239, Val Loss: 0.0024, Train Acc: 99.96%, Val Acc: 99.95%, Test Acc: 39.81%\n"
     ]
    },
    {
     "name": "stderr",
     "output_type": "stream",
     "text": [
      " 20%|██        | 8/40 [14:26<50:59, 95.62s/it]"
     ]
    },
    {
     "name": "stdout",
     "output_type": "stream",
     "text": [
      "Epoch 8, Train Loss: 0.0020, Val Loss: 0.0010, Train Acc: 100.00%, Val Acc: 99.96%, Test Acc: 40.39%\n"
     ]
    },
    {
     "name": "stderr",
     "output_type": "stream",
     "text": [
      " 22%|██▎       | 9/40 [15:58<48:47, 94.45s/it]"
     ]
    },
    {
     "name": "stdout",
     "output_type": "stream",
     "text": [
      "Epoch 9, Train Loss: 0.0004, Val Loss: 0.0005, Train Acc: 99.99%, Val Acc: 99.99%, Test Acc: 40.05%\n"
     ]
    },
    {
     "name": "stderr",
     "output_type": "stream",
     "text": [
      " 25%|██▌       | 10/40 [17:30<46:50, 93.67s/it]"
     ]
    },
    {
     "name": "stdout",
     "output_type": "stream",
     "text": [
      "Epoch 10, Train Loss: 0.0003, Val Loss: 0.0003, Train Acc: 100.00%, Val Acc: 99.99%, Test Acc: 41.55%\n"
     ]
    },
    {
     "name": "stderr",
     "output_type": "stream",
     "text": [
      " 28%|██▊       | 11/40 [19:02<45:01, 93.14s/it]"
     ]
    },
    {
     "name": "stdout",
     "output_type": "stream",
     "text": [
      "Epoch 11, Train Loss: 0.0001, Val Loss: 0.0009, Train Acc: 100.00%, Val Acc: 99.96%, Test Acc: 41.44%\n"
     ]
    },
    {
     "name": "stderr",
     "output_type": "stream",
     "text": [
      " 30%|███       | 12/40 [20:34<43:19, 92.84s/it]"
     ]
    },
    {
     "name": "stdout",
     "output_type": "stream",
     "text": [
      "Epoch 12, Train Loss: 0.0000, Val Loss: 0.0006, Train Acc: 100.00%, Val Acc: 99.97%, Test Acc: 41.20%\n"
     ]
    },
    {
     "name": "stderr",
     "output_type": "stream",
     "text": [
      " 32%|███▎      | 13/40 [22:06<41:39, 92.59s/it]"
     ]
    },
    {
     "name": "stdout",
     "output_type": "stream",
     "text": [
      "Epoch 13, Train Loss: 0.0000, Val Loss: 0.0004, Train Acc: 100.00%, Val Acc: 99.97%, Test Acc: 41.32%\n"
     ]
    },
    {
     "name": "stderr",
     "output_type": "stream",
     "text": [
      " 32%|███▎      | 13/40 [23:38<49:06, 109.12s/it]"
     ]
    },
    {
     "name": "stdout",
     "output_type": "stream",
     "text": [
      "Early stopping triggered after 14 epochs.\n"
     ]
    },
    {
     "name": "stderr",
     "output_type": "stream",
     "text": [
      "\n"
     ]
    },
    {
     "name": "stdout",
     "output_type": "stream",
     "text": [
      "45.601851851851855\n"
     ]
    }
   ],
   "source": [
    "runs = [\n",
    "    ['data/synthetic', 'data/test_data']\n",
    "]\n",
    "for TRAINING_DATA_ROOT, TEST_DATA_ROOT in runs:\n",
    "    BUCKET_NAME = 'sign-recognition-metrics'\n",
    "    PREFIX = 'metrics/' + datetime.now().strftime('%Y%m%d-%H%M%S')\n",
    "\n",
    "    train_augmentation_generator = AugmentationTrafficSignLoader(root=TRAINING_DATA_ROOT).augmentation_generator()\n",
    "    for aug_name, aug_variant, mean, std in train_augmentation_generator:\n",
    "        # Ensure GPU memory is clean before starting the setup\n",
    "        torch.cuda.empty_cache()\n",
    "        print(aug_name)\n",
    "\n",
    "        # Data loading setup\n",
    "        num_classes = len(aug_variant.classes)\n",
    "        #print(num_classes)\n",
    "        #Model initialization and setup\n",
    "        model = CNN1(num_classes)\n",
    "        model = nn.DataParallel(model)\n",
    "        model.to(device)\n",
    "\n",
    "        optimizer = optim.Adam(model.parameters(), lr=0.001) #, weight_decay=0.005)\n",
    "        # Setup scheduler\n",
    "        scheduler = StepLR(optimizer, step_size=10, gamma=0.5)  # Adjusts the learning rate every 10 epochs by halving it\n",
    "        criterion = nn.CrossEntropyLoss()\n",
    "\n",
    "\n",
    "        #print(aug_variant.classes)\n",
    "        train_size = int(0.8 * len(aug_variant))\n",
    "        val_size = len(aug_variant) - train_size\n",
    "        train_dataset, val_dataset = random_split(aug_variant, [train_size, val_size])\n",
    "        train_loader = DataLoader(train_dataset, batch_size=512, shuffle=True, num_workers=16, worker_init_fn=worker_init_fn)\n",
    "        val_loader = DataLoader(val_dataset, batch_size=512, shuffle=False, num_workers=16, worker_init_fn=worker_init_fn)\n",
    "\n",
    "        # Load the test dataset\n",
    "        transform = transforms.Compose([\n",
    "                    transforms.Resize((96, 96)),\n",
    "                    transforms.ToTensor(),\n",
    "                    transforms.Normalize(mean=mean, std=std)\n",
    "                ])\n",
    "        test_dataset = datasets.ImageFolder(root=TEST_DATA_ROOT, transform=transform)\n",
    "        idx_to_class = {v: k for k, v in test_dataset.class_to_idx.items()}\n",
    "        test_loader = DataLoader(test_dataset, batch_size=64, shuffle=False, num_workers=16, worker_init_fn=worker_init_fn)\n",
    "        #print(mean, std)\n",
    "\n",
    "        # TensorBoard Setup\n",
    "        writer_dir = os.path.join(PREFIX, 'runs', aug_name)\n",
    "        writer = SummaryWriter(writer_dir)\n",
    "\n",
    "        model_dir = f\"{PREFIX}/models/{aug_name}\"\n",
    "        # Training and Evaluation\n",
    "        test_accuracy = train_and_evaluate(model, train_loader, val_loader, test_loader, criterion, optimizer, scheduler, device, writer, model_dir, epochs=40)\n",
    "        cm = evaluate_and_save_results(model, test_loader, device, idx_to_class, BUCKET_NAME, PREFIX, aug_name)\n",
    "\n",
    "        # Upload results\n",
    "        upload_directory_to_gcs(BUCKET_NAME, PREFIX, PREFIX)\n",
    "\n",
    "        # Clear memory\n",
    "        torch.cuda.empty_cache()"
   ]
  },
  {
   "metadata": {},
   "cell_type": "markdown",
   "source": "## Batch size hyperparameter tuning",
   "id": "5c88e4b8cd082e13"
  },
  {
   "cell_type": "code",
   "execution_count": null,
   "id": "753d7c28-819f-4bcc-9b4b-e2ac1e17641f",
   "metadata": {},
   "outputs": [],
   "source": [
    "batches = [512, 256, 128, 64, 32, 16]\n",
    "TRAINING_DATA_ROOT = 'data/synthetic/8'\n",
    "TEST_DATA_ROOT = 'data/test_data'\n",
    "\n",
    "\n",
    "BUCKET_NAME = 'sign-recognition-metrics'\n",
    "PREFIX = 'metrics/batch_' + datetime.now().strftime('%Y%m%d-%H%M%S')\n",
    "best_batch_accuracy = 0\n",
    "best_batch_size = 512\n",
    "\n",
    "train_augmentation_generator = AugmentationTrafficSignLoader(root=TRAINING_DATA_ROOT).augmentation_generator()\n",
    "for aug_name, aug_variant, mean, std in train_augmentation_generator:\n",
    "    for BATCH_SIZE in batches:\n",
    "        print(BATCH_SIZE)\n",
    "        # Ensure GPU memory is clean before starting the setup\n",
    "        torch.cuda.empty_cache()\n",
    "        print(aug_name)\n",
    "\n",
    "        # Data loading setup\n",
    "        num_classes = len(aug_variant.classes)\n",
    "        #print(num_classes)\n",
    "        #Model initialization and setup\n",
    "        model = CNN1(num_classes)\n",
    "        model = nn.DataParallel(model)\n",
    "        model.to(device)\n",
    "\n",
    "        optimizer = optim.Adam(model.parameters(), lr=0.001) #, weight_decay=0.005)\n",
    "        # Setup scheduler\n",
    "        scheduler = StepLR(optimizer, step_size=10, gamma=0.5)  # Adjusts the learning rate every 10 epochs by halving it\n",
    "        criterion = nn.CrossEntropyLoss()\n",
    "\n",
    "\n",
    "        #print(aug_variant.classes)\n",
    "        train_size = int(0.8 * len(aug_variant))\n",
    "        val_size = len(aug_variant) - train_size\n",
    "        train_dataset, val_dataset = random_split(aug_variant, [train_size, val_size])\n",
    "        train_loader = DataLoader(train_dataset, batch_size=BATCH_SIZE, shuffle=True, num_workers=16, worker_init_fn=worker_init_fn)\n",
    "        val_loader = DataLoader(val_dataset, batch_size=512, shuffle=False, num_workers=16, worker_init_fn=worker_init_fn)\n",
    "\n",
    "        # Load the test dataset\n",
    "        transform = transforms.Compose([\n",
    "                    transforms.Resize((96, 96)),\n",
    "                    transforms.ToTensor(),\n",
    "                    transforms.Normalize(mean=mean, std=std)\n",
    "                ])\n",
    "        test_dataset = datasets.ImageFolder(root=TEST_DATA_ROOT, transform=transform)\n",
    "        idx_to_class = {v: k for k, v in test_dataset.class_to_idx.items()}\n",
    "        test_loader = DataLoader(test_dataset, batch_size=64, shuffle=False, num_workers=16, worker_init_fn=worker_init_fn)\n",
    "        #print(mean, std)\n",
    "\n",
    "        # TensorBoard Setup\n",
    "        writer_dir = os.path.join(PREFIX, 'runs', f'{BATCH_SIZE}')\n",
    "        writer = SummaryWriter(writer_dir)\n",
    "\n",
    "        model_dir = f\"{PREFIX}/models/{BATCH_SIZE}\"\n",
    "        # Training and Evaluation\n",
    "        test_accuracy = train_and_evaluate(model, train_loader, val_loader, test_loader, criterion, optimizer, scheduler, device, writer, model_dir, epochs=40)\n",
    "        if test_accuracy > best_batch_accuracy:\n",
    "            best_batch_accuracy = test_accuracy\n",
    "            best_batch_size = BATCH_SIZE\n",
    "        cm = evaluate_and_save_results(model, test_loader, device, idx_to_class, BUCKET_NAME, PREFIX, aug_name)\n",
    "\n",
    "        # Upload results\n",
    "        upload_directory_to_gcs(BUCKET_NAME, PREFIX, PREFIX)\n",
    "\n",
    "        # Clear memory\n",
    "        torch.cuda.empty_cache()"
   ]
  },
  {
   "metadata": {},
   "cell_type": "markdown",
   "source": [
    "## Dropout and L2 regularization hyperparameter tuning\n",
    "With best batch size found in the previous step, we will now tune the dropout hyperparameters. Uncomment decay in the optimizer initialization to enable L2 regularization."
   ],
   "id": "37f42852aeea3a2d"
  },
  {
   "metadata": {},
   "cell_type": "code",
   "outputs": [],
   "execution_count": null,
   "source": [
    "class CNN1(nn.Module):\n",
    "    def __init__(self, n_classes=35):\n",
    "        super(CNN1, self).__init__()\n",
    "        self.conv1 = nn.Conv2d(in_channels=3, out_channels=100, kernel_size=3, padding=1, bias=False)\n",
    "        self.norm1 = nn.BatchNorm2d(num_features=100)\n",
    "        self.pool1 = nn.MaxPool2d(kernel_size=2, stride=2)\n",
    "        self.dropout1 = nn.Dropout(0.5)  # Dropout after first pooling\n",
    "\n",
    "        self.conv2 = nn.Conv2d(in_channels=100, out_channels=150, kernel_size=3, padding=1, bias=False)\n",
    "        self.norm2 = nn.BatchNorm2d(num_features=150)\n",
    "        self.pool2 = nn.MaxPool2d(kernel_size=2, stride=2)\n",
    "        self.dropout2 = nn.Dropout(0.5)  # Dropout after second pooling\n",
    "\n",
    "        self.conv3 = nn.Conv2d(in_channels=150, out_channels=250, kernel_size=3, padding=1, bias=False)\n",
    "        self.norm3 = nn.BatchNorm2d(num_features=250)\n",
    "        self.pool3 = nn.MaxPool2d(kernel_size=2, stride=2)\n",
    "        self.dropout3 = nn.Dropout(0.5)  # Dropout after third pooling\n",
    "\n",
    "        flat_features = 12 * 12 * 250\n",
    "        self.fc1 = nn.Linear(in_features=flat_features, out_features=1000)\n",
    "        self.fc2 = nn.Linear(in_features=1000, out_features=100)\n",
    "        self.fc3 = nn.Linear(in_features=100, out_features=n_classes)\n",
    "        self.dropout4 = nn.Dropout(0.8)  # Dropout before the fully connected layers\n",
    "\n",
    "    def forward(self, x):\n",
    "        x = self.dropout1(self.pool1(self.norm1(F.relu(self.conv1(x)))))\n",
    "        x = self.dropout2(self.pool2(self.norm2(F.relu(self.conv2(x)))))\n",
    "        x = self.dropout3(self.pool3(self.norm3(F.relu(self.conv3(x)))))\n",
    "        x = torch.flatten(x, start_dim=1)\n",
    "        x = self.dropout4(F.relu(self.fc1(x)))\n",
    "        x = self.dropout4(F.relu(self.fc2(x)))\n",
    "        x = self.fc3(x)\n",
    "        return x"
   ],
   "id": "a9f107a987814d0f"
  },
  {
   "metadata": {},
   "cell_type": "code",
   "outputs": [],
   "execution_count": null,
   "source": [
    "BUCKET_NAME = 'sign-recognition-metrics'\n",
    "PREFIX = 'metrics/drop_' + datetime.now().strftime('%Y%m%d-%H%M%S')\n",
    "train_augmentation_generator = AugmentationTrafficSignLoader(root=TRAINING_DATA_ROOT).augmentation_generator()\n",
    "for aug_name, aug_variant, mean, std in train_augmentation_generator:\n",
    "    # Ensure GPU memory is clean before starting the setup\n",
    "    torch.cuda.empty_cache()\n",
    "    print(aug_name)\n",
    "\n",
    "    # Data loading setup\n",
    "    num_classes = len(aug_variant.classes)\n",
    "    #print(num_classes)\n",
    "    #Model initialization and setup\n",
    "    model = CNN1(num_classes)\n",
    "    model = nn.DataParallel(model)\n",
    "    model.to(device)\n",
    "\n",
    "    optimizer = optim.Adam(model.parameters(), lr=0.001) #, weight_decay=0.005)\n",
    "    # Setup scheduler\n",
    "    scheduler = StepLR(optimizer, step_size=10, gamma=0.5)  # Adjusts the learning rate every 10 epochs by halving it\n",
    "    criterion = nn.CrossEntropyLoss()\n",
    "\n",
    "\n",
    "    #print(aug_variant.classes)\n",
    "    train_size = int(0.8 * len(aug_variant))\n",
    "    val_size = len(aug_variant) - train_size\n",
    "    train_dataset, val_dataset = random_split(aug_variant, [train_size, val_size])\n",
    "    train_loader = DataLoader(train_dataset, batch_size=best_batch_size, shuffle=True, num_workers=16, worker_init_fn=worker_init_fn)\n",
    "    val_loader = DataLoader(val_dataset, batch_size=512, shuffle=False, num_workers=16, worker_init_fn=worker_init_fn)\n",
    "\n",
    "    # Load the test dataset\n",
    "    transform = transforms.Compose([\n",
    "                transforms.Resize((96, 96)),\n",
    "                transforms.ToTensor(),\n",
    "                transforms.Normalize(mean=mean, std=std)\n",
    "            ])\n",
    "    test_dataset = datasets.ImageFolder(root=TEST_DATA_ROOT, transform=transform)\n",
    "    idx_to_class = {v: k for k, v in test_dataset.class_to_idx.items()}\n",
    "    test_loader = DataLoader(test_dataset, batch_size=64, shuffle=False, num_workers=16, worker_init_fn=worker_init_fn)\n",
    "    #print(mean, std)\n",
    "\n",
    "    # TensorBoard Setup\n",
    "    writer_dir = os.path.join(PREFIX, 'runs', aug_name)\n",
    "    writer = SummaryWriter(writer_dir)\n",
    "\n",
    "    model_dir = f\"{PREFIX}/models/{aug_name}\"\n",
    "    # Training and Evaluation\n",
    "    test_accuracy = train_and_evaluate(model, train_loader, val_loader, test_loader, criterion, optimizer, scheduler, device, writer, model_dir, epochs=40)\n",
    "    if test_accuracy > best_batch_accuracy:\n",
    "        best_batch_accuracy = test_accuracy\n",
    "        best_batch_size = BATCH_SIZE\n",
    "    cm = evaluate_and_save_results(model, test_loader, device, idx_to_class, BUCKET_NAME, PREFIX, aug_name)\n",
    "\n",
    "    # Upload results\n",
    "    upload_directory_to_gcs(BUCKET_NAME, PREFIX, PREFIX)\n",
    "\n",
    "    # Clear memory\n",
    "    torch.cuda.empty_cache()"
   ],
   "id": "be23e478df2e0343"
  }
 ],
 "metadata": {
  "kernelspec": {
   "display_name": "PyTorch 2.0 (Local)",
   "language": "python",
   "name": "pytorch-2-0"
  },
  "language_info": {
   "codemirror_mode": {
    "name": "ipython",
    "version": 3
   },
   "file_extension": ".py",
   "mimetype": "text/x-python",
   "name": "python",
   "nbconvert_exporter": "python",
   "pygments_lexer": "ipython3",
   "version": "3.10.13"
  }
 },
 "nbformat": 4,
 "nbformat_minor": 5
}
